{
  "nbformat": 4,
  "nbformat_minor": 0,
  "metadata": {
    "anaconda-cloud": {},
    "kernelspec": {
      "display_name": "Python [default]",
      "language": "python",
      "name": "python3"
    },
    "language_info": {
      "codemirror_mode": {
        "name": "ipython",
        "version": 3
      },
      "file_extension": ".py",
      "mimetype": "text/x-python",
      "name": "python",
      "nbconvert_exporter": "python",
      "pygments_lexer": "ipython3",
      "version": "3.5.2"
    },
    "colab": {
      "name": "ETL_Income_Data.ipynb",
      "provenance": []
    }
  },
  "cells": [
    {
      "cell_type": "code",
      "metadata": {
        "id": "pQR1Empz99wo",
        "colab_type": "code",
        "colab": {}
      },
      "source": [
        "import matplotlib as plt\n",
        "import pandas as pd\n"
      ],
      "execution_count": 1,
      "outputs": []
    },
    {
      "cell_type": "code",
      "metadata": {
        "id": "gxVk3oXW99xB",
        "colab_type": "code",
        "colab": {}
      },
      "source": [
        "#Function returns number of rows and columns\n",
        "def row_col_df(data_frame):\n",
        "    n_row = len(data_frame.axes[0])\n",
        "    n_column = len(data_frame.axes[1])\n",
        "    return n_row, n_column\n",
        "\n",
        "#stores the github links as strings\n",
        "ato_income_source = 'https://raw.githubusercontent.com/MinhPhamAus/aus_income/master/ABS_D_SAL2.csv'\n",
        "abs_d_sal2_source = 'https://raw.githubusercontent.com/MinhPhamAus/aus_income/master/ABS_D_SAL2.csv'"
      ],
      "execution_count": 15,
      "outputs": []
    },
    {
      "cell_type": "code",
      "metadata": {
        "id": "2t5RWrli99w1",
        "colab_type": "code",
        "colab": {
          "base_uri": "https://localhost:8080/",
          "height": 363
        },
        "outputId": "493974a9-7839-45bd-c2e9-0fc7ea6eaa2c"
      },
      "source": [
        "#sets the column headers to the first row\n",
        "ato_income = pd.read_csv(ato_income_source)\n",
        "ato_income.columns = ato_income.iloc[0]\n",
        "ato_income = ato_income[1:]\n",
        "\n",
        "common_cols = list(range(0,2))\n",
        "\n",
        "md_age_earners = common_cols.extend(range(9, 9+6))\n",
        "sum_earn_col = common_cols.extend(range(14, 14+6))\n",
        "median_dollar = common_cols.extend(range(20, 20+6))\n",
        "mean_dollar = common_cols.extend(range(26, 26 + 6))\n",
        "\n",
        "ato_income.head(10)\n",
        "\n",
        "#earn_cols.append(10)\n",
        "#print(md_age_earners)\n",
        "\n",
        "earnings = ato_income.iloc[1:,0:8]  \n",
        "\n",
        "\n",
        "\n",
        "#median_earners = ato_income.iloc[1:,md_age_earners] \n",
        "\n",
        "\n",
        "#list(range(2, 8))\n",
        "#print(list(range(2, 8)))\n",
        "\n",
        "earnings.head(10)\n",
        "#index_df = row_col_df(ato_income)\n",
        "\n",
        "#earnings = ato_income.iloc[1:, [0,5,6]]\n",
        "\n",
        "#list.append(item)\n",
        "\n",
        "#new_frame = data_frame.loc[:, column_names]\n",
        "\n",
        "#data.iloc[:, 0:2] # first two columns of data frame with all rows\n",
        "#data.iloc[[0,3,6,24], [0,5,6]] # 1st, 4th, 7th, 25th row + 1st 6th 7th columns.\n",
        "\n",
        "\n",
        "\n",
        "#new = old[['A', 'C', 'D']].copy()\n",
        "\n",
        "#index_df[0]\n",
        "    \n"
      ],
      "execution_count": 24,
      "outputs": [
        {
          "output_type": "execute_result",
          "data": {
            "text/html": [
              "<div>\n",
              "<style scoped>\n",
              "    .dataframe tbody tr th:only-of-type {\n",
              "        vertical-align: middle;\n",
              "    }\n",
              "\n",
              "    .dataframe tbody tr th {\n",
              "        vertical-align: top;\n",
              "    }\n",
              "\n",
              "    .dataframe thead th {\n",
              "        text-align: right;\n",
              "    }\n",
              "</style>\n",
              "<table border=\"1\" class=\"dataframe\">\n",
              "  <thead>\n",
              "    <tr style=\"text-align: right;\">\n",
              "      <th></th>\n",
              "      <th>101021007</th>\n",
              "      <th>11007</th>\n",
              "      <th>Braidwood</th>\n",
              "      <th>10102</th>\n",
              "      <th>Queanbeyan</th>\n",
              "      <th>101</th>\n",
              "      <th>Capital Region</th>\n",
              "      <th>1RNSW</th>\n",
              "    </tr>\n",
              "  </thead>\n",
              "  <tbody>\n",
              "    <tr>\n",
              "      <th>2</th>\n",
              "      <td>101021009</td>\n",
              "      <td>11009</td>\n",
              "      <td>Queanbeyan</td>\n",
              "      <td>10102</td>\n",
              "      <td>Queanbeyan</td>\n",
              "      <td>101</td>\n",
              "      <td>Capital Region</td>\n",
              "      <td>1RNSW</td>\n",
              "    </tr>\n",
              "    <tr>\n",
              "      <th>3</th>\n",
              "      <td>101021010</td>\n",
              "      <td>11010</td>\n",
              "      <td>Queanbeyan - East</td>\n",
              "      <td>10102</td>\n",
              "      <td>Queanbeyan</td>\n",
              "      <td>101</td>\n",
              "      <td>Capital Region</td>\n",
              "      <td>1RNSW</td>\n",
              "    </tr>\n",
              "    <tr>\n",
              "      <th>4</th>\n",
              "      <td>101021011</td>\n",
              "      <td>11011</td>\n",
              "      <td>Queanbeyan Region</td>\n",
              "      <td>10102</td>\n",
              "      <td>Queanbeyan</td>\n",
              "      <td>101</td>\n",
              "      <td>Capital Region</td>\n",
              "      <td>1RNSW</td>\n",
              "    </tr>\n",
              "    <tr>\n",
              "      <th>5</th>\n",
              "      <td>101021012</td>\n",
              "      <td>11012</td>\n",
              "      <td>Queanbeyan West - Jerrabomberra</td>\n",
              "      <td>10102</td>\n",
              "      <td>Queanbeyan</td>\n",
              "      <td>101</td>\n",
              "      <td>Capital Region</td>\n",
              "      <td>1RNSW</td>\n",
              "    </tr>\n",
              "    <tr>\n",
              "      <th>6</th>\n",
              "      <td>101031013</td>\n",
              "      <td>11013</td>\n",
              "      <td>Bombala</td>\n",
              "      <td>10103</td>\n",
              "      <td>Snowy Mountains</td>\n",
              "      <td>101</td>\n",
              "      <td>Capital Region</td>\n",
              "      <td>1RNSW</td>\n",
              "    </tr>\n",
              "    <tr>\n",
              "      <th>7</th>\n",
              "      <td>101031014</td>\n",
              "      <td>11014</td>\n",
              "      <td>Cooma</td>\n",
              "      <td>10103</td>\n",
              "      <td>Snowy Mountains</td>\n",
              "      <td>101</td>\n",
              "      <td>Capital Region</td>\n",
              "      <td>1RNSW</td>\n",
              "    </tr>\n",
              "    <tr>\n",
              "      <th>8</th>\n",
              "      <td>101031015</td>\n",
              "      <td>11015</td>\n",
              "      <td>Cooma Region</td>\n",
              "      <td>10103</td>\n",
              "      <td>Snowy Mountains</td>\n",
              "      <td>101</td>\n",
              "      <td>Capital Region</td>\n",
              "      <td>1RNSW</td>\n",
              "    </tr>\n",
              "    <tr>\n",
              "      <th>9</th>\n",
              "      <td>101031016</td>\n",
              "      <td>11016</td>\n",
              "      <td>Jindabyne - Berridale</td>\n",
              "      <td>10103</td>\n",
              "      <td>Snowy Mountains</td>\n",
              "      <td>101</td>\n",
              "      <td>Capital Region</td>\n",
              "      <td>1RNSW</td>\n",
              "    </tr>\n",
              "    <tr>\n",
              "      <th>10</th>\n",
              "      <td>101041017</td>\n",
              "      <td>11017</td>\n",
              "      <td>Batemans Bay</td>\n",
              "      <td>10104</td>\n",
              "      <td>South Coast</td>\n",
              "      <td>101</td>\n",
              "      <td>Capital Region</td>\n",
              "      <td>1RNSW</td>\n",
              "    </tr>\n",
              "    <tr>\n",
              "      <th>11</th>\n",
              "      <td>101041018</td>\n",
              "      <td>11018</td>\n",
              "      <td>Batemans Bay - South</td>\n",
              "      <td>10104</td>\n",
              "      <td>South Coast</td>\n",
              "      <td>101</td>\n",
              "      <td>Capital Region</td>\n",
              "      <td>1RNSW</td>\n",
              "    </tr>\n",
              "  </tbody>\n",
              "</table>\n",
              "</div>"
            ],
            "text/plain": [
              "0   101021007  11007  ...  Capital Region  1RNSW\n",
              "2   101021009  11009  ...  Capital Region  1RNSW\n",
              "3   101021010  11010  ...  Capital Region  1RNSW\n",
              "4   101021011  11011  ...  Capital Region  1RNSW\n",
              "5   101021012  11012  ...  Capital Region  1RNSW\n",
              "6   101031013  11013  ...  Capital Region  1RNSW\n",
              "7   101031014  11014  ...  Capital Region  1RNSW\n",
              "8   101031015  11015  ...  Capital Region  1RNSW\n",
              "9   101031016  11016  ...  Capital Region  1RNSW\n",
              "10  101041017  11017  ...  Capital Region  1RNSW\n",
              "11  101041018  11018  ...  Capital Region  1RNSW\n",
              "\n",
              "[10 rows x 8 columns]"
            ]
          },
          "metadata": {
            "tags": []
          },
          "execution_count": 24
        }
      ]
    },
    {
      "cell_type": "code",
      "metadata": {
        "id": "XJrkcqht99xJ",
        "colab_type": "code",
        "colab": {}
      },
      "source": [
        ""
      ],
      "execution_count": null,
      "outputs": []
    },
    {
      "cell_type": "code",
      "metadata": {
        "id": "1M29xn-U99xP",
        "colab_type": "code",
        "colab": {}
      },
      "source": [
        "#overflow items\n",
        "\n",
        "#abs_d_sal2 = pd.read_csv(abs_d_sal2_source)\n",
        "#abs_d_sal2.columns = abs_d_sal2.iloc[0]\n",
        "#abs_d_sal2 = abs_d_sal2[1:]"
      ],
      "execution_count": null,
      "outputs": []
    },
    {
      "cell_type": "code",
      "metadata": {
        "id": "iCgjeI1Y99xW",
        "colab_type": "code",
        "colab": {}
      },
      "source": [
        ""
      ],
      "execution_count": null,
      "outputs": []
    },
    {
      "cell_type": "code",
      "metadata": {
        "id": "5dDcGIn699xd",
        "colab_type": "code",
        "colab": {}
      },
      "source": [
        ""
      ],
      "execution_count": null,
      "outputs": []
    },
    {
      "cell_type": "code",
      "metadata": {
        "id": "n-XmNy1g99xi",
        "colab_type": "code",
        "colab": {}
      },
      "source": [
        ""
      ],
      "execution_count": null,
      "outputs": []
    },
    {
      "cell_type": "code",
      "metadata": {
        "id": "1P08wdwB99xn",
        "colab_type": "code",
        "colab": {}
      },
      "source": [
        ""
      ],
      "execution_count": null,
      "outputs": []
    },
    {
      "cell_type": "code",
      "metadata": {
        "id": "Wh2gFL-D99xt",
        "colab_type": "code",
        "colab": {}
      },
      "source": [
        ""
      ],
      "execution_count": null,
      "outputs": []
    },
    {
      "cell_type": "code",
      "metadata": {
        "id": "G8R96dYC99x0",
        "colab_type": "code",
        "colab": {}
      },
      "source": [
        ""
      ],
      "execution_count": null,
      "outputs": []
    },
    {
      "cell_type": "code",
      "metadata": {
        "id": "lP9epLp899x6",
        "colab_type": "code",
        "colab": {}
      },
      "source": [
        ""
      ],
      "execution_count": null,
      "outputs": []
    },
    {
      "cell_type": "code",
      "metadata": {
        "id": "EC9WpHJX99yB",
        "colab_type": "code",
        "colab": {}
      },
      "source": [
        ""
      ],
      "execution_count": null,
      "outputs": []
    },
    {
      "cell_type": "code",
      "metadata": {
        "id": "QZ2AH8uc99yF",
        "colab_type": "code",
        "colab": {}
      },
      "source": [
        ""
      ],
      "execution_count": null,
      "outputs": []
    },
    {
      "cell_type": "code",
      "metadata": {
        "id": "h72_HSPY99yN",
        "colab_type": "code",
        "colab": {}
      },
      "source": [
        ""
      ],
      "execution_count": null,
      "outputs": []
    },
    {
      "cell_type": "code",
      "metadata": {
        "id": "zlqxX_A799yR",
        "colab_type": "code",
        "colab": {}
      },
      "source": [
        ""
      ],
      "execution_count": null,
      "outputs": []
    },
    {
      "cell_type": "code",
      "metadata": {
        "id": "beQiI76N99yV",
        "colab_type": "code",
        "colab": {}
      },
      "source": [
        ""
      ],
      "execution_count": null,
      "outputs": []
    },
    {
      "cell_type": "code",
      "metadata": {
        "id": "l5nVnifM99yb",
        "colab_type": "code",
        "colab": {}
      },
      "source": [
        ""
      ],
      "execution_count": null,
      "outputs": []
    },
    {
      "cell_type": "code",
      "metadata": {
        "id": "KsGJ96EE99yf",
        "colab_type": "code",
        "colab": {}
      },
      "source": [
        ""
      ],
      "execution_count": null,
      "outputs": []
    },
    {
      "cell_type": "code",
      "metadata": {
        "id": "MXexCBff99yk",
        "colab_type": "code",
        "colab": {}
      },
      "source": [
        ""
      ],
      "execution_count": null,
      "outputs": []
    },
    {
      "cell_type": "code",
      "metadata": {
        "id": "Sxq91dFr99yq",
        "colab_type": "code",
        "colab": {}
      },
      "source": [
        ""
      ],
      "execution_count": null,
      "outputs": []
    },
    {
      "cell_type": "code",
      "metadata": {
        "id": "m7o6SCnc99yv",
        "colab_type": "code",
        "colab": {}
      },
      "source": [
        ""
      ],
      "execution_count": null,
      "outputs": []
    },
    {
      "cell_type": "code",
      "metadata": {
        "id": "-jSXzpS299y0",
        "colab_type": "code",
        "colab": {}
      },
      "source": [
        ""
      ],
      "execution_count": null,
      "outputs": []
    },
    {
      "cell_type": "code",
      "metadata": {
        "id": "ZdY6Stqu99y5",
        "colab_type": "code",
        "colab": {}
      },
      "source": [
        ""
      ],
      "execution_count": null,
      "outputs": []
    },
    {
      "cell_type": "code",
      "metadata": {
        "id": "U2A9WPM599y9",
        "colab_type": "code",
        "colab": {}
      },
      "source": [
        ""
      ],
      "execution_count": null,
      "outputs": []
    },
    {
      "cell_type": "code",
      "metadata": {
        "id": "oKbdaKjb99zD",
        "colab_type": "code",
        "colab": {}
      },
      "source": [
        ""
      ],
      "execution_count": null,
      "outputs": []
    },
    {
      "cell_type": "code",
      "metadata": {
        "id": "nwgsrOHd99zH",
        "colab_type": "code",
        "colab": {}
      },
      "source": [
        ""
      ],
      "execution_count": null,
      "outputs": []
    },
    {
      "cell_type": "code",
      "metadata": {
        "id": "PAUHahJd99zW",
        "colab_type": "code",
        "colab": {}
      },
      "source": [
        ""
      ],
      "execution_count": null,
      "outputs": []
    },
    {
      "cell_type": "code",
      "metadata": {
        "id": "IpuXyKOv99zZ",
        "colab_type": "code",
        "colab": {}
      },
      "source": [
        ""
      ],
      "execution_count": null,
      "outputs": []
    },
    {
      "cell_type": "code",
      "metadata": {
        "id": "TwoPo4Q-99zd",
        "colab_type": "code",
        "colab": {}
      },
      "source": [
        ""
      ],
      "execution_count": null,
      "outputs": []
    },
    {
      "cell_type": "code",
      "metadata": {
        "id": "QKEVaIBZ99zh",
        "colab_type": "code",
        "colab": {}
      },
      "source": [
        ""
      ],
      "execution_count": null,
      "outputs": []
    },
    {
      "cell_type": "code",
      "metadata": {
        "id": "AXF5uzGO99zl",
        "colab_type": "code",
        "colab": {}
      },
      "source": [
        ""
      ],
      "execution_count": null,
      "outputs": []
    },
    {
      "cell_type": "code",
      "metadata": {
        "id": "iuqgk17999zp",
        "colab_type": "code",
        "colab": {}
      },
      "source": [
        ""
      ],
      "execution_count": null,
      "outputs": []
    },
    {
      "cell_type": "code",
      "metadata": {
        "id": "JrZyLDVc99zv",
        "colab_type": "code",
        "colab": {}
      },
      "source": [
        ""
      ],
      "execution_count": null,
      "outputs": []
    },
    {
      "cell_type": "code",
      "metadata": {
        "id": "i5NMowur99zy",
        "colab_type": "code",
        "colab": {}
      },
      "source": [
        ""
      ],
      "execution_count": null,
      "outputs": []
    },
    {
      "cell_type": "code",
      "metadata": {
        "id": "ypaTGhhe99z1",
        "colab_type": "code",
        "colab": {},
        "outputId": "6fcbc463-c4e8-4cab-92f6-0eb906944942"
      },
      "source": [
        "print(df2.head())\n",
        "\n",
        "\n"
      ],
      "execution_count": null,
      "outputs": [
        {
          "output_type": "stream",
          "text": [
            "        Unnamed: 0  Unnamed: 1 Earners (persons)   Unnamed: 3   Unnamed: 4  \\\n",
            "1       Australia          NaN       12,268,900   12,449,976   12,703,715    \n",
            "2  New South Wales         NaN        3,824,011    3,871,906    3,953,705    \n",
            "3        101021007   Braidwood            1,966        2,025        2,098    \n",
            "4        101021008     Karabar            5,026        4,972        4,789    \n",
            "5        101021009  Queanbeyan            6,155        6,139        6,049    \n",
            "\n",
            "    Unnamed: 5   Unnamed: 6   Unnamed: 7 Median age of earners (years)  \n",
            "1  13,102,895   13,358,252   13,678,024                            42   \n",
            "2   4,091,347    4,191,542    4,344,997                            42   \n",
            "3       2,133        2,153        2,262                            50   \n",
            "4       4,866        4,937        4,988                            42   \n",
            "5       6,194        6,419        6,486                            39   \n"
          ],
          "name": "stdout"
        }
      ]
    },
    {
      "cell_type": "code",
      "metadata": {
        "id": "B1vhd4QK99z5",
        "colab_type": "code",
        "colab": {}
      },
      "source": [
        ""
      ],
      "execution_count": null,
      "outputs": []
    }
  ]
}