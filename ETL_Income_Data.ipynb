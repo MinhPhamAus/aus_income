{
  "nbformat": 4,
  "nbformat_minor": 0,
  "metadata": {
    "anaconda-cloud": {},
    "kernelspec": {
      "display_name": "Python [default]",
      "language": "python",
      "name": "python3"
    },
    "language_info": {
      "codemirror_mode": {
        "name": "ipython",
        "version": 3
      },
      "file_extension": ".py",
      "mimetype": "text/x-python",
      "name": "python",
      "nbconvert_exporter": "python",
      "pygments_lexer": "ipython3",
      "version": "3.5.2"
    },
    "colab": {
      "name": "ETL_Income_Data.ipynb",
      "provenance": []
    }
  },
  "cells": [
    {
      "cell_type": "code",
      "metadata": {
        "id": "pQR1Empz99wo",
        "colab_type": "code",
        "colab": {}
      },
      "source": [
        "import matplotlib as plt\n",
        "import pandas as pd\n"
      ],
      "execution_count": 1,
      "outputs": []
    },
    {
      "cell_type": "code",
      "metadata": {
        "id": "gxVk3oXW99xB",
        "colab_type": "code",
        "colab": {}
      },
      "source": [
        "#Function returns number of rows and columns\n",
        "def row_col_df(data_frame):\n",
        "    n_row = len(data_frame.axes[0])\n",
        "    n_column = len(data_frame.axes[1])\n",
        "    return n_row, n_column\n",
        "\n",
        "#stores the github links as strings\n",
        "ato_income_source = 'https://raw.githubusercontent.com/MinhPhamAus/aus_income/master/ato_income.csv'\n",
        "abs_d_sal2_source = 'https://raw.githubusercontent.com/MinhPhamAus/aus_income/master/ABS_D_SAL2.csv'"
      ],
      "execution_count": 28,
      "outputs": []
    },
    {
      "cell_type": "code",
      "metadata": {
        "id": "2t5RWrli99w1",
        "colab_type": "code",
        "colab": {
          "base_uri": "https://localhost:8080/",
          "height": 35
        },
        "outputId": "cedbca55-5b5e-44ba-999d-689a8a5ccff9"
      },
      "source": [
        "#sets the column headers to the first row\n",
        "ato_income = pd.read_csv(ato_income_source)\n",
        "ato_income.columns = ato_income.iloc[0]\n",
        "ato_income = ato_income[1:]\n",
        "\n",
        "common_cols = list(range(0,2))\n",
        "\n",
        "md_age_earners = (list(range(9, 9+6)))\n",
        "md_age_earners = md_age_earners.extend(common_cols)\n",
        "\n",
        "#sum_earn_col = common_cols.extend(list(range(14, 14+6)))\n",
        "#median_dollar = common_cols.extend(list(range(20, 20+6)))\n",
        "#mean_dollar = common_cols.extend(list(range(26, 26 + 6)))\n",
        "\n",
        "ato_income.head(10)\n",
        "\n",
        "#earn_cols.append(10)\n",
        "#print(md_age_earners)\n",
        "\n",
        "#Tables\n",
        "earnings = ato_income.iloc[1:,0:8]  \n",
        "#f_sum_earn = ato_income.iloc[1:, md_age_earners]\n",
        "\n",
        "print(md_age_earners)\n",
        "\n",
        "#median_earners = ato_income.iloc[1:,md_age_earners] \n",
        "\n",
        "\n",
        "#list(range(2, 8))\n",
        "#print(list(range(2, 8)))\n",
        "\n",
        "#f_sum_earn.head(10)\n",
        "#index_df = row_col_df(ato_income)\n",
        "\n",
        "#earnings = ato_income.iloc[1:, [0,5,6]]\n",
        "\n",
        "#list.append(item)\n",
        "\n",
        "#new_frame = data_frame.loc[:, column_names]\n",
        "\n",
        "#data.iloc[:, 0:2] # first two columns of data frame with all rows\n",
        "#data.iloc[[0,3,6,24], [0,5,6]] # 1st, 4th, 7th, 25th row + 1st 6th 7th columns.\n",
        "\n",
        "\n",
        "\n",
        "#new = old[['A', 'C', 'D']].copy()\n",
        "\n",
        "#index_df[0]\n",
        "    \n"
      ],
      "execution_count": 47,
      "outputs": [
        {
          "output_type": "stream",
          "text": [
            "None\n"
          ],
          "name": "stdout"
        }
      ]
    },
    {
      "cell_type": "code",
      "metadata": {
        "id": "XJrkcqht99xJ",
        "colab_type": "code",
        "colab": {}
      },
      "source": [
        ""
      ],
      "execution_count": null,
      "outputs": []
    },
    {
      "cell_type": "code",
      "metadata": {
        "id": "1M29xn-U99xP",
        "colab_type": "code",
        "colab": {}
      },
      "source": [
        "#overflow items\n",
        "\n",
        "#abs_d_sal2 = pd.read_csv(abs_d_sal2_source)\n",
        "#abs_d_sal2.columns = abs_d_sal2.iloc[0]\n",
        "#abs_d_sal2 = abs_d_sal2[1:]"
      ],
      "execution_count": null,
      "outputs": []
    },
    {
      "cell_type": "code",
      "metadata": {
        "id": "iCgjeI1Y99xW",
        "colab_type": "code",
        "colab": {}
      },
      "source": [
        ""
      ],
      "execution_count": null,
      "outputs": []
    },
    {
      "cell_type": "code",
      "metadata": {
        "id": "5dDcGIn699xd",
        "colab_type": "code",
        "colab": {}
      },
      "source": [
        ""
      ],
      "execution_count": null,
      "outputs": []
    },
    {
      "cell_type": "code",
      "metadata": {
        "id": "n-XmNy1g99xi",
        "colab_type": "code",
        "colab": {}
      },
      "source": [
        ""
      ],
      "execution_count": null,
      "outputs": []
    },
    {
      "cell_type": "code",
      "metadata": {
        "id": "1P08wdwB99xn",
        "colab_type": "code",
        "colab": {}
      },
      "source": [
        ""
      ],
      "execution_count": null,
      "outputs": []
    },
    {
      "cell_type": "code",
      "metadata": {
        "id": "Wh2gFL-D99xt",
        "colab_type": "code",
        "colab": {}
      },
      "source": [
        ""
      ],
      "execution_count": null,
      "outputs": []
    },
    {
      "cell_type": "code",
      "metadata": {
        "id": "G8R96dYC99x0",
        "colab_type": "code",
        "colab": {}
      },
      "source": [
        ""
      ],
      "execution_count": null,
      "outputs": []
    },
    {
      "cell_type": "code",
      "metadata": {
        "id": "lP9epLp899x6",
        "colab_type": "code",
        "colab": {}
      },
      "source": [
        ""
      ],
      "execution_count": null,
      "outputs": []
    },
    {
      "cell_type": "code",
      "metadata": {
        "id": "EC9WpHJX99yB",
        "colab_type": "code",
        "colab": {}
      },
      "source": [
        ""
      ],
      "execution_count": null,
      "outputs": []
    },
    {
      "cell_type": "code",
      "metadata": {
        "id": "QZ2AH8uc99yF",
        "colab_type": "code",
        "colab": {}
      },
      "source": [
        ""
      ],
      "execution_count": null,
      "outputs": []
    },
    {
      "cell_type": "code",
      "metadata": {
        "id": "h72_HSPY99yN",
        "colab_type": "code",
        "colab": {}
      },
      "source": [
        ""
      ],
      "execution_count": null,
      "outputs": []
    },
    {
      "cell_type": "code",
      "metadata": {
        "id": "zlqxX_A799yR",
        "colab_type": "code",
        "colab": {}
      },
      "source": [
        ""
      ],
      "execution_count": null,
      "outputs": []
    },
    {
      "cell_type": "code",
      "metadata": {
        "id": "beQiI76N99yV",
        "colab_type": "code",
        "colab": {}
      },
      "source": [
        ""
      ],
      "execution_count": null,
      "outputs": []
    },
    {
      "cell_type": "code",
      "metadata": {
        "id": "l5nVnifM99yb",
        "colab_type": "code",
        "colab": {}
      },
      "source": [
        ""
      ],
      "execution_count": null,
      "outputs": []
    },
    {
      "cell_type": "code",
      "metadata": {
        "id": "KsGJ96EE99yf",
        "colab_type": "code",
        "colab": {}
      },
      "source": [
        ""
      ],
      "execution_count": null,
      "outputs": []
    },
    {
      "cell_type": "code",
      "metadata": {
        "id": "MXexCBff99yk",
        "colab_type": "code",
        "colab": {}
      },
      "source": [
        ""
      ],
      "execution_count": null,
      "outputs": []
    },
    {
      "cell_type": "code",
      "metadata": {
        "id": "Sxq91dFr99yq",
        "colab_type": "code",
        "colab": {}
      },
      "source": [
        ""
      ],
      "execution_count": null,
      "outputs": []
    },
    {
      "cell_type": "code",
      "metadata": {
        "id": "m7o6SCnc99yv",
        "colab_type": "code",
        "colab": {}
      },
      "source": [
        ""
      ],
      "execution_count": null,
      "outputs": []
    },
    {
      "cell_type": "code",
      "metadata": {
        "id": "-jSXzpS299y0",
        "colab_type": "code",
        "colab": {}
      },
      "source": [
        ""
      ],
      "execution_count": null,
      "outputs": []
    },
    {
      "cell_type": "code",
      "metadata": {
        "id": "ZdY6Stqu99y5",
        "colab_type": "code",
        "colab": {}
      },
      "source": [
        ""
      ],
      "execution_count": null,
      "outputs": []
    },
    {
      "cell_type": "code",
      "metadata": {
        "id": "U2A9WPM599y9",
        "colab_type": "code",
        "colab": {}
      },
      "source": [
        ""
      ],
      "execution_count": null,
      "outputs": []
    },
    {
      "cell_type": "code",
      "metadata": {
        "id": "oKbdaKjb99zD",
        "colab_type": "code",
        "colab": {}
      },
      "source": [
        ""
      ],
      "execution_count": null,
      "outputs": []
    },
    {
      "cell_type": "code",
      "metadata": {
        "id": "nwgsrOHd99zH",
        "colab_type": "code",
        "colab": {}
      },
      "source": [
        ""
      ],
      "execution_count": null,
      "outputs": []
    },
    {
      "cell_type": "code",
      "metadata": {
        "id": "PAUHahJd99zW",
        "colab_type": "code",
        "colab": {}
      },
      "source": [
        ""
      ],
      "execution_count": null,
      "outputs": []
    },
    {
      "cell_type": "code",
      "metadata": {
        "id": "IpuXyKOv99zZ",
        "colab_type": "code",
        "colab": {}
      },
      "source": [
        ""
      ],
      "execution_count": null,
      "outputs": []
    },
    {
      "cell_type": "code",
      "metadata": {
        "id": "TwoPo4Q-99zd",
        "colab_type": "code",
        "colab": {}
      },
      "source": [
        ""
      ],
      "execution_count": null,
      "outputs": []
    },
    {
      "cell_type": "code",
      "metadata": {
        "id": "QKEVaIBZ99zh",
        "colab_type": "code",
        "colab": {}
      },
      "source": [
        ""
      ],
      "execution_count": null,
      "outputs": []
    },
    {
      "cell_type": "code",
      "metadata": {
        "id": "AXF5uzGO99zl",
        "colab_type": "code",
        "colab": {}
      },
      "source": [
        ""
      ],
      "execution_count": null,
      "outputs": []
    },
    {
      "cell_type": "code",
      "metadata": {
        "id": "iuqgk17999zp",
        "colab_type": "code",
        "colab": {}
      },
      "source": [
        ""
      ],
      "execution_count": null,
      "outputs": []
    },
    {
      "cell_type": "code",
      "metadata": {
        "id": "JrZyLDVc99zv",
        "colab_type": "code",
        "colab": {}
      },
      "source": [
        ""
      ],
      "execution_count": null,
      "outputs": []
    },
    {
      "cell_type": "code",
      "metadata": {
        "id": "i5NMowur99zy",
        "colab_type": "code",
        "colab": {}
      },
      "source": [
        ""
      ],
      "execution_count": null,
      "outputs": []
    },
    {
      "cell_type": "code",
      "metadata": {
        "id": "ypaTGhhe99z1",
        "colab_type": "code",
        "colab": {},
        "outputId": "6fcbc463-c4e8-4cab-92f6-0eb906944942"
      },
      "source": [
        "print(df2.head())\n",
        "\n",
        "\n"
      ],
      "execution_count": null,
      "outputs": [
        {
          "output_type": "stream",
          "text": [
            "        Unnamed: 0  Unnamed: 1 Earners (persons)   Unnamed: 3   Unnamed: 4  \\\n",
            "1       Australia          NaN       12,268,900   12,449,976   12,703,715    \n",
            "2  New South Wales         NaN        3,824,011    3,871,906    3,953,705    \n",
            "3        101021007   Braidwood            1,966        2,025        2,098    \n",
            "4        101021008     Karabar            5,026        4,972        4,789    \n",
            "5        101021009  Queanbeyan            6,155        6,139        6,049    \n",
            "\n",
            "    Unnamed: 5   Unnamed: 6   Unnamed: 7 Median age of earners (years)  \n",
            "1  13,102,895   13,358,252   13,678,024                            42   \n",
            "2   4,091,347    4,191,542    4,344,997                            42   \n",
            "3       2,133        2,153        2,262                            50   \n",
            "4       4,866        4,937        4,988                            42   \n",
            "5       6,194        6,419        6,486                            39   \n"
          ],
          "name": "stdout"
        }
      ]
    },
    {
      "cell_type": "code",
      "metadata": {
        "id": "B1vhd4QK99z5",
        "colab_type": "code",
        "colab": {}
      },
      "source": [
        ""
      ],
      "execution_count": null,
      "outputs": []
    }
  ]
}