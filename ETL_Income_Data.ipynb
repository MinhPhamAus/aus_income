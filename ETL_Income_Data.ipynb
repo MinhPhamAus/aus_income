{
 "cells": [
  {
   "cell_type": "code",
   "execution_count": 1,
   "metadata": {
    "collapsed": false
   },
   "outputs": [
    {
     "ename": "ImportError",
     "evalue": "No module named 'google.colab'",
     "output_type": "error",
     "traceback": [
      "\u001b[0;31m---------------------------------------------------------------------------\u001b[0m",
      "\u001b[0;31mImportError\u001b[0m                               Traceback (most recent call last)",
      "\u001b[0;32m<ipython-input-1-36995978e18c>\u001b[0m in \u001b[0;36m<module>\u001b[0;34m()\u001b[0m\n\u001b[1;32m      2\u001b[0m \u001b[1;32mimport\u001b[0m \u001b[0mpandas\u001b[0m \u001b[1;32mas\u001b[0m \u001b[0mpd\u001b[0m\u001b[1;33m\u001b[0m\u001b[0m\n\u001b[1;32m      3\u001b[0m \u001b[1;33m\u001b[0m\u001b[0m\n\u001b[0;32m----> 4\u001b[0;31m \u001b[1;32mfrom\u001b[0m \u001b[0mgoogle\u001b[0m\u001b[1;33m.\u001b[0m\u001b[0mcolab\u001b[0m \u001b[1;32mimport\u001b[0m \u001b[0mfiles\u001b[0m\u001b[1;33m\u001b[0m\u001b[0m\n\u001b[0m\u001b[1;32m      5\u001b[0m \u001b[0muploaded\u001b[0m \u001b[1;33m=\u001b[0m \u001b[0mfiles\u001b[0m\u001b[1;33m.\u001b[0m\u001b[0mupload\u001b[0m\u001b[1;33m(\u001b[0m\u001b[1;33m)\u001b[0m\u001b[1;33m\u001b[0m\u001b[0m\n",
      "\u001b[0;31mImportError\u001b[0m: No module named 'google.colab'"
     ]
    }
   ],
   "source": [
    "import matplotlib as plt\n",
    "import pandas as pd\n",
    "\n",
    "from google.colab import files\n",
    "uploaded = files.upload()\n"
   ]
  },
  {
   "cell_type": "code",
   "execution_count": 136,
   "metadata": {
    "collapsed": false
   },
   "outputs": [
    {
     "name": "stdout",
     "output_type": "stream",
     "text": [
      "[0, 1, 9, 10, 11, 12, 13, 14]\n"
     ]
    },
    {
     "data": {
      "text/html": [
       "<div>\n",
       "<table border=\"1\" class=\"dataframe\">\n",
       "  <thead>\n",
       "    <tr style=\"text-align: right;\">\n",
       "      <th></th>\n",
       "      <th>SA2</th>\n",
       "      <th>SA2 NAME</th>\n",
       "      <th>2011-12</th>\n",
       "      <th>2012-13</th>\n",
       "      <th>2013-14</th>\n",
       "      <th>2014-15</th>\n",
       "      <th>2015-16</th>\n",
       "      <th>2016-17</th>\n",
       "    </tr>\n",
       "  </thead>\n",
       "  <tbody>\n",
       "    <tr>\n",
       "      <th>2</th>\n",
       "      <td>New South Wales</td>\n",
       "      <td>NaN</td>\n",
       "      <td>3,824,011</td>\n",
       "      <td>3,871,906</td>\n",
       "      <td>3,953,705</td>\n",
       "      <td>4,091,347</td>\n",
       "      <td>4,191,542</td>\n",
       "      <td>4,344,997</td>\n",
       "    </tr>\n",
       "    <tr>\n",
       "      <th>3</th>\n",
       "      <td>101021007</td>\n",
       "      <td>Braidwood</td>\n",
       "      <td>1,966</td>\n",
       "      <td>2,025</td>\n",
       "      <td>2,098</td>\n",
       "      <td>2,133</td>\n",
       "      <td>2,153</td>\n",
       "      <td>2,262</td>\n",
       "    </tr>\n",
       "    <tr>\n",
       "      <th>4</th>\n",
       "      <td>101021008</td>\n",
       "      <td>Karabar</td>\n",
       "      <td>5,026</td>\n",
       "      <td>4,972</td>\n",
       "      <td>4,789</td>\n",
       "      <td>4,866</td>\n",
       "      <td>4,937</td>\n",
       "      <td>4,988</td>\n",
       "    </tr>\n",
       "    <tr>\n",
       "      <th>5</th>\n",
       "      <td>101021009</td>\n",
       "      <td>Queanbeyan</td>\n",
       "      <td>6,155</td>\n",
       "      <td>6,139</td>\n",
       "      <td>6,049</td>\n",
       "      <td>6,194</td>\n",
       "      <td>6,419</td>\n",
       "      <td>6,486</td>\n",
       "    </tr>\n",
       "    <tr>\n",
       "      <th>6</th>\n",
       "      <td>101021010</td>\n",
       "      <td>Queanbeyan - East</td>\n",
       "      <td>2,898</td>\n",
       "      <td>2,940</td>\n",
       "      <td>2,924</td>\n",
       "      <td>2,971</td>\n",
       "      <td>3,106</td>\n",
       "      <td>3,230</td>\n",
       "    </tr>\n",
       "    <tr>\n",
       "      <th>7</th>\n",
       "      <td>101021011</td>\n",
       "      <td>Queanbeyan Region</td>\n",
       "      <td>8,775</td>\n",
       "      <td>8,959</td>\n",
       "      <td>9,211</td>\n",
       "      <td>9,768</td>\n",
       "      <td>10,381</td>\n",
       "      <td>11,532</td>\n",
       "    </tr>\n",
       "    <tr>\n",
       "      <th>8</th>\n",
       "      <td>101021012</td>\n",
       "      <td>Queanbeyan West - Jerrabomberra</td>\n",
       "      <td>7,679</td>\n",
       "      <td>7,778</td>\n",
       "      <td>7,843</td>\n",
       "      <td>8,067</td>\n",
       "      <td>8,039</td>\n",
       "      <td>8,272</td>\n",
       "    </tr>\n",
       "    <tr>\n",
       "      <th>9</th>\n",
       "      <td>101031013</td>\n",
       "      <td>Bombala</td>\n",
       "      <td>1,355</td>\n",
       "      <td>1,365</td>\n",
       "      <td>1,384</td>\n",
       "      <td>1,358</td>\n",
       "      <td>1,301</td>\n",
       "      <td>1,365</td>\n",
       "    </tr>\n",
       "    <tr>\n",
       "      <th>10</th>\n",
       "      <td>101031014</td>\n",
       "      <td>Cooma</td>\n",
       "      <td>3,759</td>\n",
       "      <td>3,746</td>\n",
       "      <td>3,752</td>\n",
       "      <td>3,711</td>\n",
       "      <td>3,680</td>\n",
       "      <td>3,800</td>\n",
       "    </tr>\n",
       "    <tr>\n",
       "      <th>11</th>\n",
       "      <td>101031015</td>\n",
       "      <td>Cooma Region</td>\n",
       "      <td>1,712</td>\n",
       "      <td>1,767</td>\n",
       "      <td>1,794</td>\n",
       "      <td>1,823</td>\n",
       "      <td>1,832</td>\n",
       "      <td>1,926</td>\n",
       "    </tr>\n",
       "  </tbody>\n",
       "</table>\n",
       "</div>"
      ],
      "text/plain": [
       "0               SA2                         SA2 NAME     2011-12     2012-13  \\\n",
       "2   New South Wales                              NaN  3,824,011   3,871,906    \n",
       "3         101021007                        Braidwood      1,966       2,025    \n",
       "4         101021008                          Karabar      5,026       4,972    \n",
       "5         101021009                       Queanbeyan      6,155       6,139    \n",
       "6         101021010                Queanbeyan - East      2,898       2,940    \n",
       "7         101021011                Queanbeyan Region      8,775       8,959    \n",
       "8         101021012  Queanbeyan West - Jerrabomberra      7,679       7,778    \n",
       "9         101031013                          Bombala      1,355       1,365    \n",
       "10        101031014                            Cooma      3,759       3,746    \n",
       "11        101031015                     Cooma Region      1,712       1,767    \n",
       "\n",
       "0      2013-14     2014-15     2015-16     2016-17  \n",
       "2   3,953,705   4,091,347   4,191,542   4,344,997   \n",
       "3       2,098       2,133       2,153       2,262   \n",
       "4       4,789       4,866       4,937       4,988   \n",
       "5       6,049       6,194       6,419       6,486   \n",
       "6       2,924       2,971       3,106       3,230   \n",
       "7       9,211       9,768      10,381      11,532   \n",
       "8       7,843       8,067       8,039       8,272   \n",
       "9       1,384       1,358       1,301       1,365   \n",
       "10      3,752       3,711       3,680       3,800   \n",
       "11      1,794       1,823       1,832       1,926   "
      ]
     },
     "execution_count": 136,
     "metadata": {},
     "output_type": "execute_result"
    }
   ],
   "source": [
    "#Function returns number of rows and columns\n",
    "def row_col_df(data_frame):\n",
    "    n_row = len(data_frame.axes[0])\n",
    "    n_column = len(data_frame.axes[1])\n",
    "    return n_row, n_column\n",
    "\n",
    "#read the csv file.  Needs to be in the same directory\n",
    "\n",
    "#sets the column headers to the first row\n",
    "ato_income = pd.read_csv('ato_income.csv')\n",
    "ato_income.columns = ato_income.iloc[0]\n",
    "ato_income = ato_income[1:]\n",
    "\n",
    "abs_d_sal2 = pd.read_csv('abs_d_sal2.csv')\n",
    "abs_d_sal2.columns = abs_d_sal2.iloc[0]\n",
    "abs_d_sal2 = abs_d_sal2[1:]\n",
    "\n",
    "\n",
    "md_cols = list(range(0,2))\n",
    "md_cols.extend(range(9, 9+6))\n",
    "\n",
    "#earn_cols.append(10)\n",
    "print(md_cols)\n",
    "\n",
    "\n",
    "earnings = ato_income.iloc[1:,0:8]  \n",
    "median_earners = ato_income.iloc[1:,md_cols] \n",
    "\n",
    "#list(range(2, 8))\n",
    "#print(list(range(2, 8)))\n",
    "\n",
    "earnings.head(10)\n",
    "#index_df = row_col_df(ato_income)\n",
    "\n",
    "#earnings = ato_income.iloc[1:, [0,5,6]]\n",
    "\n",
    "#list.append(item)\n",
    "\n",
    "#new_frame = data_frame.loc[:, column_names]\n",
    "\n",
    "#data.iloc[:, 0:2] # first two columns of data frame with all rows\n",
    "#data.iloc[[0,3,6,24], [0,5,6]] # 1st, 4th, 7th, 25th row + 1st 6th 7th columns.\n",
    "\n",
    "\n",
    "\n",
    "#new = old[['A', 'C', 'D']].copy()\n",
    "\n",
    "#index_df[0]\n",
    "    \n"
   ]
  },
  {
   "cell_type": "code",
   "execution_count": null,
   "metadata": {
    "collapsed": true
   },
   "outputs": [],
   "source": []
  },
  {
   "cell_type": "code",
   "execution_count": null,
   "metadata": {
    "collapsed": true
   },
   "outputs": [],
   "source": []
  },
  {
   "cell_type": "code",
   "execution_count": null,
   "metadata": {
    "collapsed": true
   },
   "outputs": [],
   "source": []
  },
  {
   "cell_type": "code",
   "execution_count": null,
   "metadata": {
    "collapsed": true
   },
   "outputs": [],
   "source": []
  },
  {
   "cell_type": "code",
   "execution_count": null,
   "metadata": {
    "collapsed": true
   },
   "outputs": [],
   "source": []
  },
  {
   "cell_type": "code",
   "execution_count": null,
   "metadata": {
    "collapsed": true
   },
   "outputs": [],
   "source": []
  },
  {
   "cell_type": "code",
   "execution_count": null,
   "metadata": {
    "collapsed": true
   },
   "outputs": [],
   "source": []
  },
  {
   "cell_type": "code",
   "execution_count": null,
   "metadata": {
    "collapsed": true
   },
   "outputs": [],
   "source": []
  },
  {
   "cell_type": "code",
   "execution_count": null,
   "metadata": {
    "collapsed": true
   },
   "outputs": [],
   "source": []
  },
  {
   "cell_type": "code",
   "execution_count": null,
   "metadata": {
    "collapsed": true
   },
   "outputs": [],
   "source": []
  },
  {
   "cell_type": "code",
   "execution_count": null,
   "metadata": {
    "collapsed": true
   },
   "outputs": [],
   "source": []
  },
  {
   "cell_type": "code",
   "execution_count": null,
   "metadata": {
    "collapsed": true
   },
   "outputs": [],
   "source": []
  },
  {
   "cell_type": "code",
   "execution_count": null,
   "metadata": {
    "collapsed": true
   },
   "outputs": [],
   "source": []
  },
  {
   "cell_type": "code",
   "execution_count": null,
   "metadata": {
    "collapsed": true
   },
   "outputs": [],
   "source": []
  },
  {
   "cell_type": "code",
   "execution_count": null,
   "metadata": {
    "collapsed": true
   },
   "outputs": [],
   "source": []
  },
  {
   "cell_type": "code",
   "execution_count": null,
   "metadata": {
    "collapsed": true
   },
   "outputs": [],
   "source": []
  },
  {
   "cell_type": "code",
   "execution_count": null,
   "metadata": {
    "collapsed": true
   },
   "outputs": [],
   "source": []
  },
  {
   "cell_type": "code",
   "execution_count": null,
   "metadata": {
    "collapsed": true
   },
   "outputs": [],
   "source": []
  },
  {
   "cell_type": "code",
   "execution_count": null,
   "metadata": {
    "collapsed": true
   },
   "outputs": [],
   "source": []
  },
  {
   "cell_type": "code",
   "execution_count": null,
   "metadata": {
    "collapsed": true
   },
   "outputs": [],
   "source": []
  },
  {
   "cell_type": "code",
   "execution_count": null,
   "metadata": {
    "collapsed": true
   },
   "outputs": [],
   "source": []
  },
  {
   "cell_type": "code",
   "execution_count": null,
   "metadata": {
    "collapsed": true
   },
   "outputs": [],
   "source": []
  },
  {
   "cell_type": "code",
   "execution_count": null,
   "metadata": {
    "collapsed": true
   },
   "outputs": [],
   "source": []
  },
  {
   "cell_type": "code",
   "execution_count": null,
   "metadata": {
    "collapsed": true
   },
   "outputs": [],
   "source": []
  },
  {
   "cell_type": "code",
   "execution_count": null,
   "metadata": {
    "collapsed": true
   },
   "outputs": [],
   "source": []
  },
  {
   "cell_type": "code",
   "execution_count": null,
   "metadata": {
    "collapsed": true
   },
   "outputs": [],
   "source": []
  },
  {
   "cell_type": "code",
   "execution_count": null,
   "metadata": {
    "collapsed": true
   },
   "outputs": [],
   "source": []
  },
  {
   "cell_type": "code",
   "execution_count": null,
   "metadata": {
    "collapsed": true
   },
   "outputs": [],
   "source": []
  },
  {
   "cell_type": "code",
   "execution_count": null,
   "metadata": {
    "collapsed": true
   },
   "outputs": [],
   "source": []
  },
  {
   "cell_type": "code",
   "execution_count": null,
   "metadata": {
    "collapsed": true
   },
   "outputs": [],
   "source": []
  },
  {
   "cell_type": "code",
   "execution_count": null,
   "metadata": {
    "collapsed": true
   },
   "outputs": [],
   "source": []
  },
  {
   "cell_type": "code",
   "execution_count": null,
   "metadata": {
    "collapsed": true
   },
   "outputs": [],
   "source": []
  },
  {
   "cell_type": "code",
   "execution_count": null,
   "metadata": {
    "collapsed": true
   },
   "outputs": [],
   "source": []
  },
  {
   "cell_type": "code",
   "execution_count": 22,
   "metadata": {
    "collapsed": false
   },
   "outputs": [
    {
     "name": "stdout",
     "output_type": "stream",
     "text": [
      "        Unnamed: 0  Unnamed: 1 Earners (persons)   Unnamed: 3   Unnamed: 4  \\\n",
      "1       Australia          NaN       12,268,900   12,449,976   12,703,715    \n",
      "2  New South Wales         NaN        3,824,011    3,871,906    3,953,705    \n",
      "3        101021007   Braidwood            1,966        2,025        2,098    \n",
      "4        101021008     Karabar            5,026        4,972        4,789    \n",
      "5        101021009  Queanbeyan            6,155        6,139        6,049    \n",
      "\n",
      "    Unnamed: 5   Unnamed: 6   Unnamed: 7 Median age of earners (years)  \n",
      "1  13,102,895   13,358,252   13,678,024                            42   \n",
      "2   4,091,347    4,191,542    4,344,997                            42   \n",
      "3       2,133        2,153        2,262                            50   \n",
      "4       4,866        4,937        4,988                            42   \n",
      "5       6,194        6,419        6,486                            39   \n"
     ]
    }
   ],
   "source": [
    "print(df2.head())\n",
    "\n",
    "\n"
   ]
  },
  {
   "cell_type": "code",
   "execution_count": null,
   "metadata": {
    "collapsed": true
   },
   "outputs": [],
   "source": []
  }
 ],
 "metadata": {
  "anaconda-cloud": {},
  "kernelspec": {
   "display_name": "Python [default]",
   "language": "python",
   "name": "python3"
  },
  "language_info": {
   "codemirror_mode": {
    "name": "ipython",
    "version": 3
   },
   "file_extension": ".py",
   "mimetype": "text/x-python",
   "name": "python",
   "nbconvert_exporter": "python",
   "pygments_lexer": "ipython3",
   "version": "3.5.2"
  }
 },
 "nbformat": 4,
 "nbformat_minor": 1
}
