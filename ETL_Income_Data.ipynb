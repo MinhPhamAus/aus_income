{
  "nbformat": 4,
  "nbformat_minor": 0,
  "metadata": {
    "anaconda-cloud": {},
    "kernelspec": {
      "display_name": "Python [default]",
      "language": "python",
      "name": "python3"
    },
    "language_info": {
      "codemirror_mode": {
        "name": "ipython",
        "version": 3
      },
      "file_extension": ".py",
      "mimetype": "text/x-python",
      "name": "python",
      "nbconvert_exporter": "python",
      "pygments_lexer": "ipython3",
      "version": "3.5.2"
    },
    "colab": {
      "name": "ETL_Income_Data.ipynb",
      "provenance": []
    }
  },
  "cells": [
    {
      "cell_type": "code",
      "metadata": {
        "id": "pQR1Empz99wo",
        "colab_type": "code",
        "colab": {}
      },
      "source": [
        "import matplotlib as plt\n",
        "import pandas as pd\n"
      ],
      "execution_count": 2,
      "outputs": []
    },
    {
      "cell_type": "code",
      "metadata": {
        "id": "gxVk3oXW99xB",
        "colab_type": "code",
        "colab": {}
      },
      "source": [
        "#Function returns number of rows and columns\n",
        "def row_col_df(data_frame):\n",
        "    n_row = len(data_frame.axes[0])\n",
        "    n_column = len(data_frame.axes[1])\n",
        "    return n_row, n_column\n",
        "\n",
        "#stores the github links as strings\n",
        "ato_income_source = 'https://raw.githubusercontent.com/MinhPhamAus/aus_income/master/ato_income.csv'\n",
        "abs_d_sal2_source = 'https://raw.githubusercontent.com/MinhPhamAus/aus_income/master/ABS_D_SAL2.csv'"
      ],
      "execution_count": 3,
      "outputs": []
    },
    {
      "cell_type": "code",
      "metadata": {
        "id": "2t5RWrli99w1",
        "colab_type": "code",
        "colab": {}
      },
      "source": [
        "#sets the column headers to the first row and creates common_cols list for all other pandas tables\n",
        "ato_income = pd.read_csv(ato_income_source)\n",
        "ato_income.columns = ato_income.iloc[0]\n",
        "ato_income = ato_income[1:]\n",
        "\n",
        "common_cols = list(range(0,2))"
      ],
      "execution_count": 4,
      "outputs": []
    },
    {
      "cell_type": "code",
      "metadata": {
        "id": "XJrkcqht99xJ",
        "colab_type": "code",
        "colab": {}
      },
      "source": [
        "#Create Median Age of Earners Table: md_age_earners\n",
        "md_age_earners_cols = (list(range(8, 8+7)))\n",
        "md_age_earners_cols = common_cols + md_age_earners_cols\n",
        "md_age_earners = ato_income.iloc[1:, md_age_earners_cols]\n",
        "md_age_earners = md_age_earners[md_age_earners.SA2.notnull()]"
      ],
      "execution_count": 23,
      "outputs": []
    },
    {
      "cell_type": "code",
      "metadata": {
        "id": "dTTwQxf5vS9A",
        "colab_type": "code",
        "colab": {}
      },
      "source": [
        "#Create number Earners Table: no_earners\n",
        "no_earners = ato_income.iloc[1:, 0:8]\n",
        "no_earners = no_earners[no_earners.SA2.notnull()]"
      ],
      "execution_count": 24,
      "outputs": []
    },
    {
      "cell_type": "code",
      "metadata": {
        "id": "1M29xn-U99xP",
        "colab_type": "code",
        "colab": {
          "base_uri": "https://localhost:8080/",
          "height": 363
        },
        "outputId": "dcb8cb36-e02d-4352-bd3a-6cc3802c521a"
      },
      "source": [
        "#Create sum_earnings Table\n",
        "sum_earnings_cols = (list(range(14, 14+6)))\n",
        "sum_earnings_cols = common_cols + sum_earnings_cols\n",
        "sum_earnings = ato_income.iloc[1:, sum_earnings_cols]\n",
        "sum_earnings = sum_earnings[sum_earnings.SA2.notnull()]"
      ],
      "execution_count": 11,
      "outputs": [
        {
          "output_type": "execute_result",
          "data": {
            "text/html": [
              "<div>\n",
              "<style scoped>\n",
              "    .dataframe tbody tr th:only-of-type {\n",
              "        vertical-align: middle;\n",
              "    }\n",
              "\n",
              "    .dataframe tbody tr th {\n",
              "        vertical-align: top;\n",
              "    }\n",
              "\n",
              "    .dataframe thead th {\n",
              "        text-align: right;\n",
              "    }\n",
              "</style>\n",
              "<table border=\"1\" class=\"dataframe\">\n",
              "  <thead>\n",
              "    <tr style=\"text-align: right;\">\n",
              "      <th></th>\n",
              "      <th>SA2</th>\n",
              "      <th>SA2 NAME</th>\n",
              "      <th>2011-12</th>\n",
              "      <th>2012-13</th>\n",
              "      <th>2013-14</th>\n",
              "      <th>2014-15</th>\n",
              "      <th>2015-16</th>\n",
              "      <th>2016-17</th>\n",
              "    </tr>\n",
              "  </thead>\n",
              "  <tbody>\n",
              "    <tr>\n",
              "      <th>2</th>\n",
              "      <td>New South Wales</td>\n",
              "      <td>NaN</td>\n",
              "      <td>217,709,426,015</td>\n",
              "      <td>229,617,831,286</td>\n",
              "      <td>242,519,496,944</td>\n",
              "      <td>256,928,457,330</td>\n",
              "      <td>270,324,902,216</td>\n",
              "      <td>283,275,046,025</td>\n",
              "    </tr>\n",
              "    <tr>\n",
              "      <th>3</th>\n",
              "      <td>101021007</td>\n",
              "      <td>Braidwood</td>\n",
              "      <td>83,198,986</td>\n",
              "      <td>88,248,284</td>\n",
              "      <td>93,610,368</td>\n",
              "      <td>101,830,606</td>\n",
              "      <td>109,961,530</td>\n",
              "      <td>115,564,780</td>\n",
              "    </tr>\n",
              "    <tr>\n",
              "      <th>4</th>\n",
              "      <td>101021008</td>\n",
              "      <td>Karabar</td>\n",
              "      <td>277,154,940</td>\n",
              "      <td>285,155,682</td>\n",
              "      <td>281,555,361</td>\n",
              "      <td>289,762,288</td>\n",
              "      <td>301,618,607</td>\n",
              "      <td>311,923,113</td>\n",
              "    </tr>\n",
              "    <tr>\n",
              "      <th>5</th>\n",
              "      <td>101021009</td>\n",
              "      <td>Queanbeyan</td>\n",
              "      <td>341,083,467</td>\n",
              "      <td>353,910,600</td>\n",
              "      <td>353,111,654</td>\n",
              "      <td>367,366,063</td>\n",
              "      <td>390,044,004</td>\n",
              "      <td>395,374,979</td>\n",
              "    </tr>\n",
              "    <tr>\n",
              "      <th>6</th>\n",
              "      <td>101021010</td>\n",
              "      <td>Queanbeyan - East</td>\n",
              "      <td>173,924,950</td>\n",
              "      <td>183,269,025</td>\n",
              "      <td>183,669,376</td>\n",
              "      <td>186,867,083</td>\n",
              "      <td>199,164,715</td>\n",
              "      <td>211,520,090</td>\n",
              "    </tr>\n",
              "    <tr>\n",
              "      <th>7</th>\n",
              "      <td>101021011</td>\n",
              "      <td>Queanbeyan Region</td>\n",
              "      <td>595,599,874</td>\n",
              "      <td>624,607,399</td>\n",
              "      <td>658,299,033</td>\n",
              "      <td>717,452,753</td>\n",
              "      <td>790,019,714</td>\n",
              "      <td>875,609,556</td>\n",
              "    </tr>\n",
              "    <tr>\n",
              "      <th>8</th>\n",
              "      <td>101021012</td>\n",
              "      <td>Queanbeyan West - Jerrabomberra</td>\n",
              "      <td>547,471,267</td>\n",
              "      <td>571,250,771</td>\n",
              "      <td>588,173,409</td>\n",
              "      <td>618,616,023</td>\n",
              "      <td>639,311,430</td>\n",
              "      <td>667,990,366</td>\n",
              "    </tr>\n",
              "    <tr>\n",
              "      <th>9</th>\n",
              "      <td>101031013</td>\n",
              "      <td>Bombala</td>\n",
              "      <td>59,739,246</td>\n",
              "      <td>60,022,863</td>\n",
              "      <td>67,534,543</td>\n",
              "      <td>67,898,894</td>\n",
              "      <td>69,218,945</td>\n",
              "      <td>79,115,739</td>\n",
              "    </tr>\n",
              "    <tr>\n",
              "      <th>10</th>\n",
              "      <td>101031014</td>\n",
              "      <td>Cooma</td>\n",
              "      <td>178,012,691</td>\n",
              "      <td>177,026,748</td>\n",
              "      <td>186,105,671</td>\n",
              "      <td>188,193,949</td>\n",
              "      <td>187,910,847</td>\n",
              "      <td>195,032,875</td>\n",
              "    </tr>\n",
              "    <tr>\n",
              "      <th>11</th>\n",
              "      <td>101031015</td>\n",
              "      <td>Cooma Region</td>\n",
              "      <td>72,560,731</td>\n",
              "      <td>77,156,265</td>\n",
              "      <td>82,200,802</td>\n",
              "      <td>88,452,143</td>\n",
              "      <td>93,931,414</td>\n",
              "      <td>105,189,628</td>\n",
              "    </tr>\n",
              "  </tbody>\n",
              "</table>\n",
              "</div>"
            ],
            "text/plain": [
              "0               SA2  ...           2016-17\n",
              "2   New South Wales  ...  283,275,046,025 \n",
              "3         101021007  ...      115,564,780 \n",
              "4         101021008  ...      311,923,113 \n",
              "5         101021009  ...      395,374,979 \n",
              "6         101021010  ...      211,520,090 \n",
              "7         101021011  ...      875,609,556 \n",
              "8         101021012  ...      667,990,366 \n",
              "9         101031013  ...       79,115,739 \n",
              "10        101031014  ...      195,032,875 \n",
              "11        101031015  ...      105,189,628 \n",
              "\n",
              "[10 rows x 8 columns]"
            ]
          },
          "metadata": {
            "tags": []
          },
          "execution_count": 11
        }
      ]
    },
    {
      "cell_type": "code",
      "metadata": {
        "id": "iCgjeI1Y99xW",
        "colab_type": "code",
        "colab": {}
      },
      "source": [
        "#Create median_earn Table\n",
        "median_earnings_cols = (list(range(20, 20+6)))\n",
        "median_earnings_cols = common_cols + median_earnings_cols\n",
        "median_earnings = ato_income.iloc[1:, median_earnings_cols]\n",
        "median_earnings = median_earnings[median_earnings.SA2.notnull()]"
      ],
      "execution_count": 17,
      "outputs": []
    },
    {
      "cell_type": "code",
      "metadata": {
        "id": "5dDcGIn699xd",
        "colab_type": "code",
        "colab": {}
      },
      "source": [
        "#Create mean_earn Table\n",
        "mean_earn_cols = (list(range(26, 26+6)))\n",
        "mean_earn_cols = common_cols + mean_earn_cols\n",
        "mean_earn = ato_income.iloc[1:, mean_earn_cols]\n",
        "mean_earn = mean_earn[mean_earn.SA2.notnull()]\n"
      ],
      "execution_count": 22,
      "outputs": []
    },
    {
      "cell_type": "code",
      "metadata": {
        "id": "n-XmNy1g99xi",
        "colab_type": "code",
        "colab": {}
      },
      "source": [
        ""
      ],
      "execution_count": 7,
      "outputs": []
    },
    {
      "cell_type": "code",
      "metadata": {
        "id": "1P08wdwB99xn",
        "colab_type": "code",
        "colab": {}
      },
      "source": [
        ""
      ],
      "execution_count": 7,
      "outputs": []
    },
    {
      "cell_type": "code",
      "metadata": {
        "id": "Wh2gFL-D99xt",
        "colab_type": "code",
        "colab": {}
      },
      "source": [
        ""
      ],
      "execution_count": 7,
      "outputs": []
    },
    {
      "cell_type": "code",
      "metadata": {
        "id": "G8R96dYC99x0",
        "colab_type": "code",
        "colab": {}
      },
      "source": [
        ""
      ],
      "execution_count": 7,
      "outputs": []
    },
    {
      "cell_type": "code",
      "metadata": {
        "id": "lP9epLp899x6",
        "colab_type": "code",
        "colab": {}
      },
      "source": [
        ""
      ],
      "execution_count": 7,
      "outputs": []
    },
    {
      "cell_type": "code",
      "metadata": {
        "id": "EC9WpHJX99yB",
        "colab_type": "code",
        "colab": {}
      },
      "source": [
        ""
      ],
      "execution_count": 7,
      "outputs": []
    },
    {
      "cell_type": "code",
      "metadata": {
        "id": "QZ2AH8uc99yF",
        "colab_type": "code",
        "colab": {}
      },
      "source": [
        ""
      ],
      "execution_count": 7,
      "outputs": []
    },
    {
      "cell_type": "code",
      "metadata": {
        "id": "h72_HSPY99yN",
        "colab_type": "code",
        "colab": {}
      },
      "source": [
        ""
      ],
      "execution_count": 7,
      "outputs": []
    },
    {
      "cell_type": "code",
      "metadata": {
        "id": "zlqxX_A799yR",
        "colab_type": "code",
        "colab": {}
      },
      "source": [
        ""
      ],
      "execution_count": 7,
      "outputs": []
    },
    {
      "cell_type": "code",
      "metadata": {
        "id": "beQiI76N99yV",
        "colab_type": "code",
        "colab": {}
      },
      "source": [
        ""
      ],
      "execution_count": 7,
      "outputs": []
    },
    {
      "cell_type": "code",
      "metadata": {
        "id": "l5nVnifM99yb",
        "colab_type": "code",
        "colab": {}
      },
      "source": [
        ""
      ],
      "execution_count": 7,
      "outputs": []
    },
    {
      "cell_type": "code",
      "metadata": {
        "id": "KsGJ96EE99yf",
        "colab_type": "code",
        "colab": {}
      },
      "source": [
        ""
      ],
      "execution_count": 7,
      "outputs": []
    },
    {
      "cell_type": "code",
      "metadata": {
        "id": "MXexCBff99yk",
        "colab_type": "code",
        "colab": {}
      },
      "source": [
        ""
      ],
      "execution_count": 7,
      "outputs": []
    },
    {
      "cell_type": "code",
      "metadata": {
        "id": "Sxq91dFr99yq",
        "colab_type": "code",
        "colab": {}
      },
      "source": [
        ""
      ],
      "execution_count": 7,
      "outputs": []
    },
    {
      "cell_type": "code",
      "metadata": {
        "id": "m7o6SCnc99yv",
        "colab_type": "code",
        "colab": {}
      },
      "source": [
        ""
      ],
      "execution_count": 7,
      "outputs": []
    },
    {
      "cell_type": "code",
      "metadata": {
        "id": "-jSXzpS299y0",
        "colab_type": "code",
        "colab": {}
      },
      "source": [
        ""
      ],
      "execution_count": 7,
      "outputs": []
    },
    {
      "cell_type": "code",
      "metadata": {
        "id": "ZdY6Stqu99y5",
        "colab_type": "code",
        "colab": {}
      },
      "source": [
        ""
      ],
      "execution_count": 7,
      "outputs": []
    },
    {
      "cell_type": "code",
      "metadata": {
        "id": "U2A9WPM599y9",
        "colab_type": "code",
        "colab": {}
      },
      "source": [
        ""
      ],
      "execution_count": 7,
      "outputs": []
    },
    {
      "cell_type": "code",
      "metadata": {
        "id": "oKbdaKjb99zD",
        "colab_type": "code",
        "colab": {}
      },
      "source": [
        ""
      ],
      "execution_count": 7,
      "outputs": []
    },
    {
      "cell_type": "code",
      "metadata": {
        "id": "nwgsrOHd99zH",
        "colab_type": "code",
        "colab": {}
      },
      "source": [
        ""
      ],
      "execution_count": 7,
      "outputs": []
    },
    {
      "cell_type": "code",
      "metadata": {
        "id": "PAUHahJd99zW",
        "colab_type": "code",
        "colab": {}
      },
      "source": [
        ""
      ],
      "execution_count": 7,
      "outputs": []
    },
    {
      "cell_type": "code",
      "metadata": {
        "id": "IpuXyKOv99zZ",
        "colab_type": "code",
        "colab": {}
      },
      "source": [
        ""
      ],
      "execution_count": 7,
      "outputs": []
    },
    {
      "cell_type": "code",
      "metadata": {
        "id": "TwoPo4Q-99zd",
        "colab_type": "code",
        "colab": {}
      },
      "source": [
        ""
      ],
      "execution_count": 7,
      "outputs": []
    },
    {
      "cell_type": "code",
      "metadata": {
        "id": "QKEVaIBZ99zh",
        "colab_type": "code",
        "colab": {}
      },
      "source": [
        ""
      ],
      "execution_count": 7,
      "outputs": []
    },
    {
      "cell_type": "code",
      "metadata": {
        "id": "AXF5uzGO99zl",
        "colab_type": "code",
        "colab": {}
      },
      "source": [
        ""
      ],
      "execution_count": 7,
      "outputs": []
    },
    {
      "cell_type": "code",
      "metadata": {
        "id": "iuqgk17999zp",
        "colab_type": "code",
        "colab": {}
      },
      "source": [
        ""
      ],
      "execution_count": 7,
      "outputs": []
    },
    {
      "cell_type": "code",
      "metadata": {
        "id": "JrZyLDVc99zv",
        "colab_type": "code",
        "colab": {}
      },
      "source": [
        ""
      ],
      "execution_count": 7,
      "outputs": []
    },
    {
      "cell_type": "code",
      "metadata": {
        "id": "i5NMowur99zy",
        "colab_type": "code",
        "colab": {}
      },
      "source": [
        ""
      ],
      "execution_count": 7,
      "outputs": []
    },
    {
      "cell_type": "code",
      "metadata": {
        "id": "ypaTGhhe99z1",
        "colab_type": "code",
        "colab": {
          "base_uri": "https://localhost:8080/",
          "height": 205
        },
        "outputId": "5d51beb9-f67c-445a-e4e5-f14378b2edfa"
      },
      "source": [
        "print(df2.head())\n",
        "\n",
        "\n"
      ],
      "execution_count": 8,
      "outputs": [
        {
          "output_type": "error",
          "ename": "NameError",
          "evalue": "ignored",
          "traceback": [
            "\u001b[0;31m---------------------------------------------------------------------------\u001b[0m",
            "\u001b[0;31mNameError\u001b[0m                                 Traceback (most recent call last)",
            "\u001b[0;32m<ipython-input-8-7aa8417a2b7b>\u001b[0m in \u001b[0;36m<module>\u001b[0;34m()\u001b[0m\n\u001b[0;32m----> 1\u001b[0;31m \u001b[0mprint\u001b[0m\u001b[0;34m(\u001b[0m\u001b[0mdf2\u001b[0m\u001b[0;34m.\u001b[0m\u001b[0mhead\u001b[0m\u001b[0;34m(\u001b[0m\u001b[0;34m)\u001b[0m\u001b[0;34m)\u001b[0m\u001b[0;34m\u001b[0m\u001b[0;34m\u001b[0m\u001b[0m\n\u001b[0m\u001b[1;32m      2\u001b[0m \u001b[0;34m\u001b[0m\u001b[0m\n\u001b[1;32m      3\u001b[0m \u001b[0;34m\u001b[0m\u001b[0m\n",
            "\u001b[0;31mNameError\u001b[0m: name 'df2' is not defined"
          ]
        }
      ]
    },
    {
      "cell_type": "code",
      "metadata": {
        "id": "B1vhd4QK99z5",
        "colab_type": "code",
        "colab": {}
      },
      "source": [
        ""
      ],
      "execution_count": null,
      "outputs": []
    }
  ]
}